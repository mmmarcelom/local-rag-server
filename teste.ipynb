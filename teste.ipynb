{
 "cells": [
  {
   "cell_type": "code",
   "execution_count": 21,
   "id": "88055808",
   "metadata": {},
   "outputs": [],
   "source": [
    "# Functions\n",
    "import requests\n",
    "from typing import List\n",
    "from qdrant_client import QdrantClient\n",
    "from qdrant_client.http.models import PointIdsList\n",
    "\n",
    "BASE_URL = \"https://exact-feasible-sponge.ngrok-free.app\"\n",
    "\n",
    "def add_knowledge(documents: List[str]):\n",
    "    \"\"\"\n",
    "    Adiciona documentos à base de conhecimento\n",
    "    \n",
    "    Args:\n",
    "        documents: Lista de textos para adicionar\n",
    "        source: Fonte dos documentos (padrão: jupyter_notebook)\n",
    "    \"\"\"\n",
    "    url = f\"{BASE_URL}/knowledge\"\n",
    "    \n",
    "    payload = documents\n",
    "    \n",
    "    response = requests.post(url, json=payload)\n",
    "    \n",
    "    if response.status_code == 200:\n",
    "        print(response.json())\n",
    "        print(\"Documentos adicionados com sucesso\")\n",
    "    else:\n",
    "        print(\"Falha ao adicionar documentos\")\n",
    "        print(response.text)\n",
    "\n",
    "def clear_qdrant(host: str = \"localhost\", port: int = 6333, collection_name: str = \"knowledge_base\"):\n",
    "    \"\"\"\n",
    "    Limpa o Qdrant diretamente (sem usar a API)\n",
    "    \n",
    "    Args:\n",
    "        host: Host do Qdrant\n",
    "        port: Porta do Qdrant\n",
    "        collection_name: Nome da coleção\n",
    "    \"\"\"\n",
    "    try:\n",
    "        from qdrant_client import QdrantClient\n",
    "        \n",
    "        print(f\"🔗 Conectando diretamente ao Qdrant em {host}:{port}...\")\n",
    "        \n",
    "        client = QdrantClient(host=host, port=port)\n",
    "        \n",
    "        # Verificar se a coleção existe\n",
    "        collections = client.get_collections()\n",
    "        collection_names = [c.name for c in collections.collections]\n",
    "        \n",
    "        if collection_name not in collection_names:\n",
    "            print(f\"⚠️ Coleção '{collection_name}' não encontrada\")\n",
    "            print(f\"📋 Coleções disponíveis: {collection_names}\")\n",
    "            return False\n",
    "        \n",
    "        # Deletar todos os pontos da coleção\n",
    "        print(f\"🗑️ Deletando todos os pontos da coleção '{collection_name}'...\")\n",
    "        \n",
    "        client.delete(\n",
    "            collection_name=collection_name,\n",
    "            points_selector=PointIdsList(points=[])\n",
    "        )\n",
    "        \n",
    "        print(f\"✅ Coleção '{collection_name}' limpa com sucesso!\")\n",
    "        return True\n",
    "        \n",
    "    except ImportError:\n",
    "        print(\"❌ Biblioteca qdrant-client não encontrada\")\n",
    "        print(\"💡 Instale com: pip install qdrant-client\")\n",
    "        return False\n",
    "    except Exception as e:\n",
    "        print(f\"❌ Erro ao limpar Qdrant diretamente: {e}\")\n",
    "        return False\n"
   ]
  },
  {
   "cell_type": "code",
   "execution_count": null,
   "id": "f15215ea",
   "metadata": {},
   "outputs": [],
   "source": [
    "textos = \"\"\"\n",
    "A Hubnordeste Tecnologia é uma plataforma que unifica atendimentos via WhatsApp e Instagram, oferecendo soluções para comunicação com clientes de forma organizada e automatizada (hubnordeste.tech).\n",
    "\"\"\""
   ]
  },
  {
   "cell_type": "code",
   "execution_count": 22,
   "id": "5010e3d0",
   "metadata": {},
   "outputs": [],
   "source": [
    "textos = [\n",
    "\"\"\"\n",
    "A Hubnordeste Tecnologia é uma plataforma que unifica atendimentos via WhatsApp e Instagram, oferecendo soluções para comunicação com clientes de forma organizada e automatizada (hubnordeste.tech).\n",
    "\"\"\",\n",
    "\"\"\"\n",
    "As Funcionalidades principais são: Multi‐Atendimento e Gestão de Conversas,Disparo em Massa,Cadastro de Clientes,Chatbot personalizado,Indicator Analytics,Pagamentos via WhatsApp,Aplicativo móvel, botão WhatsApp, integração via API,Integrações com automações como Make e n8n\n",
    "\"\"\",\n",
    "\"\"\"\n",
    "O preço do plano essencial é R$ 399/mês\n",
    "* 1 número de WhatsApp, 1 conta Instagram\n",
    "* Chatbot e funil de vendas personalizados\n",
    "* Mensagens em massa e relatórios\n",
    "* Implantação + treinamento incluídos\n",
    "\"\"\",\n",
    "\"\"\"\n",
    "O preço do plano Profissional é R$ 499/mês\n",
    "\n",
    "* Tudo do Essencial + transcrição de áudio\n",
    "* Campos personalizados, automações, integração com APIs\n",
    "\"\"\",\n",
    "\"\"\"\n",
    "O preço do plano Empresarial é R$ 750/mês\n",
    "\n",
    "* Tudo do Profissional\n",
    "* Suporte prioritário, carteirização de contatos\n",
    "* Distribuição automática\n",
    "* Integração avançada com IA\n",
    "\"\"\",\n",
    "\"\"\"\n",
    "Para quem é indicado:\n",
    "Ideal para empresas e profissionais que desejam centralizar e automatizar a comunicação via redes sociais, com foco em atendimento, CRM conversacional, chatbots, marketing via mensagens e até recebimento de pagamentos via WhatsApp.\n",
    "\"\"\",\n",
    "\"\"\"\n",
    "Detalhes administrativos:\n",
    "* CNPJ: 56.062.887/0001‑05 (TI na Nordeste – MEI, sob Taina Teixeira Cavalcante de Lima)\n",
    "* Canal de contato: WhatsApp +55 82 99993 9356 / email [contato@hubnordeste.app.br](mailto:contato@hubnordeste.app.br)\n",
    "\"\"\"\n",
    "]"
   ]
  },
  {
   "cell_type": "code",
   "execution_count": 24,
   "id": "fbdb21c4",
   "metadata": {},
   "outputs": [
    {
     "name": "stdout",
     "output_type": "stream",
     "text": [
      "{'status': 'success', 'added': 7}\n",
      "Documentos adicionados com sucesso\n",
      "\n",
      "📊 Resultado: None\n"
     ]
    }
   ],
   "source": [
    "resultado = add_knowledge(textos)\n",
    "print(f\"\\n📊 Resultado: {resultado}\")"
   ]
  },
  {
   "cell_type": "code",
   "execution_count": 20,
   "id": "d3743bc4",
   "metadata": {},
   "outputs": [
    {
     "name": "stdout",
     "output_type": "stream",
     "text": [
      "🔗 Conectando diretamente ao Qdrant em localhost:6333...\n",
      "🗑️ Deletando todos os pontos da coleção 'knowledge_base'...\n",
      "❌ Erro ao limpar Qdrant diretamente: Unexpected Response: 400 (Bad Request)\n",
      "Raw response content:\n",
      "b'{\"status\":{\"error\":\"Bad request: Empty update request\"},\"time\":0.003970584}'\n"
     ]
    },
    {
     "data": {
      "text/plain": [
       "False"
      ]
     },
     "execution_count": 20,
     "metadata": {},
     "output_type": "execute_result"
    }
   ],
   "source": [
    "clear_qdrant()"
   ]
  }
 ],
 "metadata": {
  "kernelspec": {
   "display_name": "Python 3",
   "language": "python",
   "name": "python3"
  },
  "language_info": {
   "codemirror_mode": {
    "name": "ipython",
    "version": 3
   },
   "file_extension": ".py",
   "mimetype": "text/x-python",
   "name": "python",
   "nbconvert_exporter": "python",
   "pygments_lexer": "ipython3",
   "version": "3.13.5"
  }
 },
 "nbformat": 4,
 "nbformat_minor": 5
}
