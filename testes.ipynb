{
 "cells": [
  {
   "cell_type": "markdown",
   "id": "32ea34ea",
   "metadata": {},
   "source": [
    "### Teste do servidor FastAPI"
   ]
  },
  {
   "cell_type": "code",
   "execution_count": null,
   "id": "5156d3c8",
   "metadata": {},
   "outputs": [],
   "source": [
    "# Requirements\n",
    "!pip install requests"
   ]
  },
  {
   "cell_type": "code",
   "execution_count": null,
   "id": "3737b46b",
   "metadata": {},
   "outputs": [],
   "source": [
    "# Script para testar se o servidor RAG está funcionando\n",
    "\n",
    "import requests\n",
    "import time\n",
    "import sys\n",
    "\n",
    "def test_server():\n",
    "    base_url = \"http://localhost:8001\"  # Ajuste a porta conforme necessário\n",
    "    \n",
    "    print(f\"🧪 Testando servidor em: {base_url}\")\n",
    "    print(\"=\" * 50)\n",
    "    \n",
    "    # Teste 1: Rota raiz\n",
    "    try:\n",
    "        print(\"1️⃣ Testando rota raiz (/)...\")\n",
    "        response = requests.get(f\"{base_url}/\", timeout=5)\n",
    "        print(f\"   Status: {response.status_code}\")\n",
    "        print(f\"   Resposta: {response.text[:200]}...\")\n",
    "        print()\n",
    "    except requests.exceptions.ConnectionError:\n",
    "        print(\"   ❌ Erro: Não foi possível conectar ao servidor\")\n",
    "        print(\"   💡 Verifique se o servidor está rodando na porta correta\")\n",
    "        return False\n",
    "    except Exception as e:\n",
    "        print(f\"   ❌ Erro: {e}\")\n",
    "        return False\n",
    "    \n",
    "    # Teste 2: Health check\n",
    "    try:\n",
    "        print(\"2️⃣ Testando health check (/health)...\")\n",
    "        response = requests.get(f\"{base_url}/health\", timeout=5)\n",
    "        print(f\"   Status: {response.status_code}\")\n",
    "        print(f\"   Resposta: {response.text}\")\n",
    "        print()\n",
    "    except Exception as e:\n",
    "        print(f\"   ❌ Erro: {e}\")\n",
    "    \n",
    "    # Teste 3: Documentação\n",
    "    try:\n",
    "        print(\"3️⃣ Testando documentação (/docs)...\")\n",
    "        response = requests.get(f\"{base_url}/docs\", timeout=5)\n",
    "        print(f\"   Status: {response.status_code}\")\n",
    "        if response.status_code == 200:\n",
    "            print(\"   ✅ Documentação acessível\")\n",
    "        else:\n",
    "            print(\"   ⚠️  Documentação não encontrada\")\n",
    "        print()\n",
    "    except Exception as e:\n",
    "        print(f\"   ❌ Erro: {e}\")\n",
    "    \n",
    "    # Teste 4: OpenAPI JSON\n",
    "    try:\n",
    "        print(\"4️⃣ Testando OpenAPI JSON (/openapi.json)...\")\n",
    "        response = requests.get(f\"{base_url}/openapi.json\", timeout=5)\n",
    "        print(f\"   Status: {response.status_code}\")\n",
    "        if response.status_code == 200:\n",
    "            print(\"   ✅ OpenAPI JSON acessível\")\n",
    "        else:\n",
    "            print(\"   ⚠️  OpenAPI JSON não encontrado\")\n",
    "        print()\n",
    "    except Exception as e:\n",
    "        print(f\"   ❌ Erro: {e}\")\n",
    "    \n",
    "    print(\"=\" * 50)\n",
    "    print(\"✅ Testes concluídos!\")\n",
    "    print(f\"📚 Acesse a documentação em: {base_url}/docs\")\n",
    "    \n",
    "    return True\n",
    "\n",
    "print(\"⏳ Aguardando servidor inicializar...\")\n",
    "time.sleep(2)\n",
    "\n",
    "success = test_server()\n",
    "\n",
    "if not success:\n",
    "    print(\"\\n🔧 Soluções possíveis:\")\n",
    "    print(\"1. Verifique se o servidor está rodando\")\n",
    "    print(\"2. Verifique se a porta está correta\")\n",
    "    print(\"3. Verifique se não há conflito de portas\")\n",
    "    print(\"4. Verifique os logs do servidor\")\n",
    "    sys.exit(1) "
   ]
  },
  {
   "cell_type": "code",
   "execution_count": 2,
   "id": "ccaa85e7",
   "metadata": {},
   "outputs": [
    {
     "name": "stdout",
     "output_type": "stream",
     "text": [
      "Status code: 200\n",
      "Resposta: {'status': 'success', 'message': 'Mensagem recebida e será processada em background'}\n"
     ]
    }
   ],
   "source": [
    "# Enviar mensagem para o servidor\n",
    "\n",
    "message = \"Olá, meu nome é Marcelo, que horas são?\"\n",
    "\n",
    "import requests\n",
    "import datetime\n",
    "\n",
    "url = \"http://127.0.0.1:8001/message\"\n",
    "\n",
    "payload = {\n",
    "    \"phone_number\": \"5582999464789\",\n",
    "    \"message\": message,\n",
    "    \"message_id\": \"abc123\",\n",
    "    \"user_name\": \"Teste\",\n",
    "    \"timestamp\": datetime.datetime.now().isoformat()\n",
    "}\n",
    "\n",
    "response = requests.post(url, json=payload)\n",
    "\n",
    "print(\"Status code:\", response.status_code)\n",
    "print(\"Resposta:\", response.json())"
   ]
  },
  {
   "cell_type": "code",
   "execution_count": null,
   "id": "727adb0b",
   "metadata": {},
   "outputs": [],
   "source": [
    "# Enviar mensagem para base de conhecimento\n",
    "\n",
    "message = \"Olá, meu nome é Marcelo, que horas são?\"\n",
    "\n",
    "import requests\n",
    "import datetime\n",
    "\n",
    "url = \"http://127.0.0.1:8000/add-knowledge\"\n",
    "\n",
    "payload = {\n",
    "    \"phone_number\": \"5582999464789\",\n",
    "    \"message\": message,\n",
    "    \"message_id\": \"abc123\",\n",
    "    \"user_name\": \"Teste\",\n",
    "    \"timestamp\": datetime.datetime.now().isoformat()\n",
    "}\n",
    "\n",
    "response = requests.post(url, json=payload)\n",
    "\n",
    "print(\"Status code:\", response.status_code)\n",
    "print(\"Resposta:\", response.json())"
   ]
  },
  {
   "cell_type": "markdown",
   "id": "8a1c47cb",
   "metadata": {},
   "source": [
    "### SUPABASE"
   ]
  },
  {
   "cell_type": "code",
   "execution_count": null,
   "id": "847e6f01",
   "metadata": {},
   "outputs": [],
   "source": [
    "# Teste do Supabase\n",
    "from supabase import create_client\n",
    "import os\n",
    "from dotenv import load_dotenv\n",
    "\n",
    "load_dotenv(\".env\")\n",
    "\n",
    "SUPABASE_URL = os.getenv(\"SUPABASE_URL\")\n",
    "SUPABASE_KEY = os.getenv(\"SUPABASE_ANON_KEY\")\n",
    "\n",
    "supabase = create_client(SUPABASE_URL, SUPABASE_KEY)\n",
    "\n",
    "data = {\n",
    "    \"phone_number\": \"11999999999\",\n",
    "    \"user_name\": \"Teste\",\n",
    "    \"status\": \"active\"\n",
    "}\n",
    "result = supabase.table(\"conversations\").insert(data).execute()\n",
    "print(result)"
   ]
  },
  {
   "cell_type": "code",
   "execution_count": null,
   "id": "7bca5cb3",
   "metadata": {},
   "outputs": [],
   "source": [
    "# SELECT * FROM conversations LIMIT 1\n",
    "result = supabase.table(\"conversations\").select(\"*\").limit(1).execute()\n",
    "print(result.data)"
   ]
  },
  {
   "cell_type": "markdown",
   "id": "5814756d",
   "metadata": {},
   "source": [
    "### OLLAMA"
   ]
  },
  {
   "cell_type": "code",
   "execution_count": null,
   "id": "9f4dee08",
   "metadata": {},
   "outputs": [],
   "source": [
    "# Teste o Modelo\n",
    "import os\n",
    "from dotenv import load_dotenv\n",
    "import requests\n",
    "\n",
    "load_dotenv(\".env\")\n",
    "\n",
    "OLLAMA_URL = os.getenv(\"OLLAMA_URL\")\n",
    "\n",
    "response = requests.post(\n",
    "    f\"{OLLAMA_URL}/api/generate\",\n",
    "    json={\n",
    "        \"model\": \"llama3.2\",\n",
    "        \"prompt\": \"Olá, quem é você?\"\n",
    "    }\n",
    ")\n",
    "print(response)"
   ]
  },
  {
   "cell_type": "code",
   "execution_count": null,
   "id": "3907617a",
   "metadata": {},
   "outputs": [],
   "source": [
    "# CUDA\n",
    "\n",
    "import torch\n",
    "print(torch.cuda.is_available())  # Deve retornar True\n",
    "#print(torch.cuda.current_device())  # Deve retornar 0 (ou outro índice, se múltiplas GPUs)\n",
    "print(torch.cuda.get_device_name(0))  # Nome da sua GPU"
   ]
  },
  {
   "cell_type": "markdown",
   "id": "d9c2b50e",
   "metadata": {},
   "source": [
    "### PUB/SUB"
   ]
  },
  {
   "cell_type": "code",
   "execution_count": 14,
   "id": "096f88dd",
   "metadata": {},
   "outputs": [],
   "source": [
    "# Publicar mensagem diretamente no PubSub\n",
    "\n",
    "import os\n",
    "from google.cloud import pubsub_v1\n",
    "\n",
    "# Configurar credenciais e variáveis\n",
    "os.environ[\"GOOGLE_APPLICATION_CREDENTIALS\"] = r\"C:\\Projetos\\python-llama-rag-wts\\credenciais.json\"\n",
    "PROJECT_ID = os.getenv(\"GCP_PROJECT_ID\", \"treinamentoia-465816\")\n",
    "PUBSUB_TOPIC_ID = os.getenv(\"PUBSUB_TOPIC_ID\", \"whatsapp-messages\")\n",
    "SUBSCRIPTION_ID = os.getenv(\"PUBSUB_SUBSCRIPTION_ID\", \"whatsapp-messages-sub\")"
   ]
  },
  {
   "cell_type": "code",
   "execution_count": null,
   "id": "7238bc1e",
   "metadata": {},
   "outputs": [],
   "source": [
    "# Publicar mensagem diretamente no PubSub\n",
    "publisher = pubsub_v1.PublisherClient()\n",
    "topic_path = publisher.topic_path(PROJECT_ID, PUBSUB_TOPIC_ID)\n",
    "\n",
    "data = \"Mensagem de teste do PubSub\".encode(\"utf-8\")\n",
    "future = publisher.publish(topic_path, data)\n",
    "print(\"Mensagem publicada! ID:\", future.result())"
   ]
  },
  {
   "cell_type": "code",
   "execution_count": null,
   "id": "46f8d6be",
   "metadata": {},
   "outputs": [],
   "source": [
    "# Confirmar todas as mensagens pendentes\n",
    "subscriber = pubsub_v1.SubscriberClient()\n",
    "subscription_path = subscriber.subscription_path(PROJECT_ID, SUBSCRIPTION_ID)\n",
    "\n",
    "try:\n",
    "    while True:\n",
    "        # Tentar receber mensagens\n",
    "        request = {\n",
    "            \"subscription\": subscription_path,\n",
    "            \"max_messages\": 10,  # Pega até 10 mensagens por vez\n",
    "            \"return_immediately\": True\n",
    "        }\n",
    "        \n",
    "        response = subscriber.pull(request=request, timeout=5.0)\n",
    "        print(f'{len(response.received_messages)} mensages lidas')\n",
    "        \n",
    "        if not response.received_messages:\n",
    "            print(\"Nenhuma mensagem pendente encontrada.\")\n",
    "            break\n",
    "        \n",
    "        # Fazer ack de todas as mensagens recebidas\n",
    "        ack_ids = [msg.ack_id for msg in response.received_messages]\n",
    "        \n",
    "\n",
    "        subscriber.acknowledge(request={\"subscription\": subscription_path, \"ack_ids\": ack_ids})\n",
    "        \n",
    "    \n",
    "\n",
    "except Exception as e:\n",
    "    print(f\"Erro ao limpar fila: {e}\")"
   ]
  }
 ],
 "metadata": {
  "kernelspec": {
   "display_name": ".venv",
   "language": "python",
   "name": "python3"
  },
  "language_info": {
   "codemirror_mode": {
    "name": "ipython",
    "version": 3
   },
   "file_extension": ".py",
   "mimetype": "text/x-python",
   "name": "python",
   "nbconvert_exporter": "python",
   "pygments_lexer": "ipython3",
   "version": "3.13.5"
  }
 },
 "nbformat": 4,
 "nbformat_minor": 5
}
