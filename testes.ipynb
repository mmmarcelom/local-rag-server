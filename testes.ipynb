{
 "cells": [
  {
   "cell_type": "markdown",
   "id": "32ea34ea",
   "metadata": {},
   "source": [
    "### Teste do servidor FastAPI"
   ]
  },
  {
   "cell_type": "code",
   "execution_count": 14,
   "id": "5156d3c8",
   "metadata": {},
   "outputs": [
    {
     "name": "stdout",
     "output_type": "stream",
     "text": [
      "Requirement already satisfied: requests in c:\\projetos\\local-rag-server\\.venv\\lib\\site-packages (2.32.4)\n",
      "Requirement already satisfied: charset_normalizer<4,>=2 in c:\\projetos\\local-rag-server\\.venv\\lib\\site-packages (from requests) (3.4.2)\n",
      "Requirement already satisfied: idna<4,>=2.5 in c:\\projetos\\local-rag-server\\.venv\\lib\\site-packages (from requests) (3.10)\n",
      "Requirement already satisfied: urllib3<3,>=1.21.1 in c:\\projetos\\local-rag-server\\.venv\\lib\\site-packages (from requests) (2.5.0)\n",
      "Requirement already satisfied: certifi>=2017.4.17 in c:\\projetos\\local-rag-server\\.venv\\lib\\site-packages (from requests) (2025.7.14)\n"
     ]
    }
   ],
   "source": [
    "# Requirements\n",
    "!pip install requests"
   ]
  },
  {
   "cell_type": "code",
   "execution_count": 15,
   "id": "3737b46b",
   "metadata": {},
   "outputs": [
    {
     "name": "stdout",
     "output_type": "stream",
     "text": [
      "⏳ Aguardando servidor inicializar...\n",
      "🧪 Testando servidor em: http://localhost:8001\n",
      "==================================================\n",
      "1️⃣ Testando rota raiz (/)...\n",
      "   Status: 200\n",
      "   Resposta: {\"status\":\"online\",\"message\":\"Local RAG Server está funcionando!\",\"timestamp\":\"2025-07-27T15:55:47.956281\",\"endpoints\":{\"docs\":\"/docs\",\"message\":\"/message\",\"conversation\":\"/conversation/{phone_number}...\n",
      "\n",
      "2️⃣ Testando health check (/health)...\n",
      "   Status: 200\n",
      "   Resposta: {\"status\":\"healthy\",\"timestamp\":\"2025-07-27T15:55:49.993317\"}\n",
      "\n",
      "3️⃣ Testando documentação (/docs)...\n",
      "   Status: 200\n",
      "   ✅ Documentação acessível\n",
      "\n",
      "4️⃣ Testando OpenAPI JSON (/openapi.json)...\n",
      "   Status: 200\n",
      "   ✅ OpenAPI JSON acessível\n",
      "\n",
      "==================================================\n",
      "✅ Testes concluídos!\n",
      "📚 Acesse a documentação em: http://localhost:8001/docs\n"
     ]
    }
   ],
   "source": [
    "# Script para testar se o servidor RAG está funcionando\n",
    "\n",
    "import requests\n",
    "import time\n",
    "import sys\n",
    "\n",
    "def test_server():\n",
    "    base_url = \"http://localhost:8001\"  # Ajuste a porta conforme necessário\n",
    "    \n",
    "    print(f\"🧪 Testando servidor em: {base_url}\")\n",
    "    print(\"=\" * 50)\n",
    "    \n",
    "    # Teste 1: Rota raiz\n",
    "    try:\n",
    "        print(\"1️⃣ Testando rota raiz (/)...\")\n",
    "        response = requests.get(f\"{base_url}/\", timeout=5)\n",
    "        print(f\"   Status: {response.status_code}\")\n",
    "        print(f\"   Resposta: {response.text[:200]}...\")\n",
    "        print()\n",
    "    except requests.exceptions.ConnectionError:\n",
    "        print(\"   ❌ Erro: Não foi possível conectar ao servidor\")\n",
    "        print(\"   💡 Verifique se o servidor está rodando na porta correta\")\n",
    "        return False\n",
    "    except Exception as e:\n",
    "        print(f\"   ❌ Erro: {e}\")\n",
    "        return False\n",
    "    \n",
    "    # Teste 2: Health check\n",
    "    try:\n",
    "        print(\"2️⃣ Testando health check (/health)...\")\n",
    "        response = requests.get(f\"{base_url}/health\", timeout=5)\n",
    "        print(f\"   Status: {response.status_code}\")\n",
    "        print(f\"   Resposta: {response.text}\")\n",
    "        print()\n",
    "    except Exception as e:\n",
    "        print(f\"   ❌ Erro: {e}\")\n",
    "    \n",
    "    # Teste 3: Documentação\n",
    "    try:\n",
    "        print(\"3️⃣ Testando documentação (/docs)...\")\n",
    "        response = requests.get(f\"{base_url}/docs\", timeout=5)\n",
    "        print(f\"   Status: {response.status_code}\")\n",
    "        if response.status_code == 200:\n",
    "            print(\"   ✅ Documentação acessível\")\n",
    "        else:\n",
    "            print(\"   ⚠️  Documentação não encontrada\")\n",
    "        print()\n",
    "    except Exception as e:\n",
    "        print(f\"   ❌ Erro: {e}\")\n",
    "    \n",
    "    # Teste 4: OpenAPI JSON\n",
    "    try:\n",
    "        print(\"4️⃣ Testando OpenAPI JSON (/openapi.json)...\")\n",
    "        response = requests.get(f\"{base_url}/openapi.json\", timeout=5)\n",
    "        print(f\"   Status: {response.status_code}\")\n",
    "        if response.status_code == 200:\n",
    "            print(\"   ✅ OpenAPI JSON acessível\")\n",
    "        else:\n",
    "            print(\"   ⚠️  OpenAPI JSON não encontrado\")\n",
    "        print()\n",
    "    except Exception as e:\n",
    "        print(f\"   ❌ Erro: {e}\")\n",
    "    \n",
    "    print(\"=\" * 50)\n",
    "    print(\"✅ Testes concluídos!\")\n",
    "    print(f\"📚 Acesse a documentação em: {base_url}/docs\")\n",
    "    \n",
    "    return True\n",
    "\n",
    "print(\"⏳ Aguardando servidor inicializar...\")\n",
    "time.sleep(2)\n",
    "\n",
    "success = test_server()\n",
    "\n",
    "if not success:\n",
    "    print(\"\\n🔧 Soluções possíveis:\")\n",
    "    print(\"1. Verifique se o servidor está rodando\")\n",
    "    print(\"2. Verifique se a porta está correta\")\n",
    "    print(\"3. Verifique se não há conflito de portas\")\n",
    "    print(\"4. Verifique os logs do servidor\")\n",
    "    sys.exit(1) "
   ]
  },
  {
   "cell_type": "code",
   "execution_count": 1,
   "id": "ccaa85e7",
   "metadata": {},
   "outputs": [
    {
     "name": "stdout",
     "output_type": "stream",
     "text": [
      "Status code: 200\n",
      "Resposta: {'status': 'success', 'message': 'Mensagem adicionada para processamento em background'}\n"
     ]
    }
   ],
   "source": [
    "# Enviar mensagem para o servidor\n",
    "\n",
    "message = \"Me fale sobre tecnologia\"\n",
    "\n",
    "import requests\n",
    "import datetime\n",
    "\n",
    "url = \"http://127.0.0.1:8001/message\"\n",
    "\n",
    "payload = {\n",
    "    \"phone_number\": \"5582999464789\",\n",
    "    \"message\": message,\n",
    "    \"message_id\": \"abc123\",\n",
    "    \"user_name\": \"Teste\",\n",
    "    \"timestamp\": datetime.datetime.now().isoformat()\n",
    "}\n",
    "\n",
    "response = requests.post(url, json=payload)\n",
    "\n",
    "print(\"Status code:\", response.status_code)\n",
    "print(\"Resposta:\", response.json())"
   ]
  },
  {
   "cell_type": "code",
   "execution_count": 17,
   "id": "727adb0b",
   "metadata": {},
   "outputs": [
    {
     "name": "stdout",
     "output_type": "stream",
     "text": [
      "Status code: 401\n",
      "Resposta: {'message': 'Unauthorized'}\n"
     ]
    }
   ],
   "source": [
    "# Enviar mensagem para base de conhecimento\n",
    "\n",
    "message = \"Olá, meu nome é Marcelo, que horas são?\"\n",
    "\n",
    "import requests\n",
    "import datetime\n",
    "\n",
    "url = \"http://127.0.0.1:8000/add-knowledge\"\n",
    "\n",
    "payload = {\n",
    "    \"phone_number\": \"5582999464789\",\n",
    "    \"message\": message,\n",
    "    \"message_id\": \"abc123\",\n",
    "    \"user_name\": \"Teste\",\n",
    "    \"timestamp\": datetime.datetime.now().isoformat()\n",
    "}\n",
    "\n",
    "response = requests.post(url, json=payload)\n",
    "\n",
    "print(\"Status code:\", response.status_code)\n",
    "print(\"Resposta:\", response.json())"
   ]
  },
  {
   "cell_type": "markdown",
   "id": "8a1c47cb",
   "metadata": {},
   "source": [
    "### SUPABASE"
   ]
  },
  {
   "cell_type": "code",
   "execution_count": null,
   "id": "847e6f01",
   "metadata": {},
   "outputs": [],
   "source": [
    "# Teste do Supabase\n",
    "from supabase import create_client\n",
    "import os\n",
    "from dotenv import load_dotenv\n",
    "\n",
    "load_dotenv(\".env\")\n",
    "\n",
    "SUPABASE_URL = os.getenv(\"SUPABASE_URL\")\n",
    "SUPABASE_KEY = os.getenv(\"SUPABASE_ANON_KEY\")\n",
    "\n",
    "supabase = create_client(SUPABASE_URL, SUPABASE_KEY)\n",
    "\n",
    "data = {\n",
    "    \"phone_number\": \"11999999999\",\n",
    "    \"user_name\": \"Teste\",\n",
    "    \"status\": \"active\"\n",
    "}\n",
    "result = supabase.table(\"conversations\").insert(data).execute()\n",
    "print(result)"
   ]
  },
  {
   "cell_type": "code",
   "execution_count": null,
   "id": "7bca5cb3",
   "metadata": {},
   "outputs": [],
   "source": [
    "# SELECT * FROM conversations LIMIT 1\n",
    "result = supabase.table(\"conversations\").select(\"*\").limit(1).execute()\n",
    "print(result.data)"
   ]
  },
  {
   "cell_type": "markdown",
   "id": "5814756d",
   "metadata": {},
   "source": [
    "### OLLAMA"
   ]
  },
  {
   "cell_type": "code",
   "execution_count": null,
   "id": "9f4dee08",
   "metadata": {},
   "outputs": [],
   "source": [
    "# Teste o Modelo\n",
    "import os\n",
    "from dotenv import load_dotenv\n",
    "import requests\n",
    "\n",
    "load_dotenv(\".env\")\n",
    "\n",
    "OLLAMA_URL = os.getenv(\"OLLAMA_URL\")\n",
    "\n",
    "response = requests.post(\n",
    "    f\"{OLLAMA_URL}/api/generate\",\n",
    "    json={\n",
    "        \"model\": \"llama3.2\",\n",
    "        \"prompt\": \"Olá, quem é você?\"\n",
    "    }\n",
    ")\n",
    "print(response)"
   ]
  },
  {
   "cell_type": "code",
   "execution_count": null,
   "id": "3907617a",
   "metadata": {},
   "outputs": [],
   "source": [
    "# CUDA\n",
    "\n",
    "import torch\n",
    "print(torch.cuda.is_available())  # Deve retornar True\n",
    "#print(torch.cuda.current_device())  # Deve retornar 0 (ou outro índice, se múltiplas GPUs)\n",
    "print(torch.cuda.get_device_name(0))  # Nome da sua GPU"
   ]
  },
  {
   "cell_type": "code",
   "execution_count": null,
   "id": "845fe935",
   "metadata": {},
   "outputs": [],
   "source": [
    "#Script de teste para o sistema RAG\n",
    "\n",
    "import asyncio\n",
    "import logging\n",
    "from src.services.rag_system import RAGSystem\n",
    "\n",
    "# Configurar logging\n",
    "logging.basicConfig(level=logging.INFO)\n",
    "logger = logging.getLogger(__name__)\n",
    "\n",
    "async def test_rag_system():\n",
    "    \"\"\"Testa o sistema RAG\"\"\"\n",
    "    try:\n",
    "        rag = RAGSystem()\n",
    "        \n",
    "        # Teste 1: Verificar conexão com Qdrant\n",
    "        logger.info(\"=== Teste 1: Verificar conexão com Qdrant ===\")\n",
    "        rag._initialize_qdrant()\n",
    "        \n",
    "        if not rag.qdrant:\n",
    "            logger.error(\"Falha na conexão com Qdrant\")\n",
    "            return\n",
    "        \n",
    "        # Teste 2: Verificar coleções\n",
    "        logger.info(\"=== Teste 2: Verificar coleções ===\")\n",
    "        collections = rag.qdrant.get_collections()\n",
    "        logger.info(f\"Coleções disponíveis: {[c.name for c in collections.collections]}\")\n",
    "        \n",
    "        # Teste 3: Adicionar documentos de teste\n",
    "        logger.info(\"=== Teste 3: Adicionar documentos de teste ===\")\n",
    "        test_documents = [\n",
    "            \"O produto X custa R$ 100,00 e tem garantia de 1 ano.\",\n",
    "            \"Para suporte técnico, entre em contato pelo WhatsApp ou email.\",\n",
    "            \"Nossos horários de atendimento são de segunda a sexta, das 8h às 18h.\",\n",
    "            \"Frete grátis para compras acima de R$ 200,00.\",\n",
    "            \"Aceitamos cartão de crédito, PIX e boleto bancário.\"\n",
    "        ]\n",
    "        \n",
    "        await rag.add_documents_to_rag(test_documents, [{\"source\": \"teste\"} for _ in test_documents])\n",
    "        \n",
    "        # Teste 4: Testar busca\n",
    "        logger.info(\"=== Teste 4: Testar busca ===\")\n",
    "        query = \"Quanto custa o produto X?\"\n",
    "        context = await rag.retrieve_context(query)\n",
    "        logger.info(f\"Query: {query}\")\n",
    "        logger.info(f\"Contexto encontrado: {context}\")\n",
    "        \n",
    "        # Teste 5: Testar busca com histórico\n",
    "        logger.info(\"=== Teste 5: Testar busca com histórico ===\")\n",
    "        history = [\n",
    "            {\"message\": \"Olá, preciso de ajuda\", \"message_type\": \"incoming\"},\n",
    "            {\"message\": \"Como posso ajudar?\", \"message_type\": \"outgoing\"}\n",
    "        ]\n",
    "        context_with_history = await rag.retrieve_context(\"preços\", history)\n",
    "        logger.info(f\"Query com histórico: preços\")\n",
    "        logger.info(f\"Contexto encontrado: {context_with_history}\")\n",
    "        \n",
    "        logger.info(\"=== Todos os testes concluídos com sucesso! ===\")\n",
    "        \n",
    "    except Exception as e:\n",
    "        logger.error(f\"Erro durante os testes: {e}\")\n",
    "        import traceback\n",
    "        logger.error(f\"Traceback: {traceback.format_exc()}\")\n",
    "\n",
    "if __name__ == \"__main__\":\n",
    "    asyncio.run(test_rag_system()) "
   ]
  },
  {
   "cell_type": "markdown",
   "id": "d9c2b50e",
   "metadata": {},
   "source": [
    "### PUB/SUB"
   ]
  },
  {
   "cell_type": "code",
   "execution_count": 14,
   "id": "096f88dd",
   "metadata": {},
   "outputs": [],
   "source": [
    "# Publicar mensagem diretamente no PubSub\n",
    "\n",
    "import os\n",
    "from google.cloud import pubsub_v1\n",
    "\n",
    "# Configurar credenciais e variáveis\n",
    "os.environ[\"GOOGLE_APPLICATION_CREDENTIALS\"] = r\"C:\\Projetos\\python-llama-rag-wts\\credenciais.json\"\n",
    "PROJECT_ID = os.getenv(\"GCP_PROJECT_ID\", \"treinamentoia-465816\")\n",
    "PUBSUB_TOPIC_ID = os.getenv(\"PUBSUB_TOPIC_ID\", \"whatsapp-messages\")\n",
    "SUBSCRIPTION_ID = os.getenv(\"PUBSUB_SUBSCRIPTION_ID\", \"whatsapp-messages-sub\")"
   ]
  },
  {
   "cell_type": "code",
   "execution_count": null,
   "id": "7238bc1e",
   "metadata": {},
   "outputs": [],
   "source": [
    "# Publicar mensagem diretamente no PubSub\n",
    "publisher = pubsub_v1.PublisherClient()\n",
    "topic_path = publisher.topic_path(PROJECT_ID, PUBSUB_TOPIC_ID)\n",
    "\n",
    "data = \"Mensagem de teste do PubSub\".encode(\"utf-8\")\n",
    "future = publisher.publish(topic_path, data)\n",
    "print(\"Mensagem publicada! ID:\", future.result())"
   ]
  },
  {
   "cell_type": "code",
   "execution_count": null,
   "id": "46f8d6be",
   "metadata": {},
   "outputs": [],
   "source": [
    "# Confirmar todas as mensagens pendentes\n",
    "subscriber = pubsub_v1.SubscriberClient()\n",
    "subscription_path = subscriber.subscription_path(PROJECT_ID, SUBSCRIPTION_ID)\n",
    "\n",
    "try:\n",
    "    while True:\n",
    "        # Tentar receber mensagens\n",
    "        request = {\n",
    "            \"subscription\": subscription_path,\n",
    "            \"max_messages\": 10,  # Pega até 10 mensagens por vez\n",
    "            \"return_immediately\": True\n",
    "        }\n",
    "        \n",
    "        response = subscriber.pull(request=request, timeout=5.0)\n",
    "        print(f'{len(response.received_messages)} mensages lidas')\n",
    "        \n",
    "        if not response.received_messages:\n",
    "            print(\"Nenhuma mensagem pendente encontrada.\")\n",
    "            break\n",
    "        \n",
    "        # Fazer ack de todas as mensagens recebidas\n",
    "        ack_ids = [msg.ack_id for msg in response.received_messages]\n",
    "        \n",
    "\n",
    "        subscriber.acknowledge(request={\"subscription\": subscription_path, \"ack_ids\": ack_ids})\n",
    "        \n",
    "    \n",
    "\n",
    "except Exception as e:\n",
    "    print(f\"Erro ao limpar fila: {e}\")"
   ]
  }
 ],
 "metadata": {
  "kernelspec": {
   "display_name": ".venv",
   "language": "python",
   "name": "python3"
  },
  "language_info": {
   "codemirror_mode": {
    "name": "ipython",
    "version": 3
   },
   "file_extension": ".py",
   "mimetype": "text/x-python",
   "name": "python",
   "nbconvert_exporter": "python",
   "pygments_lexer": "ipython3",
   "version": "3.13.5"
  }
 },
 "nbformat": 4,
 "nbformat_minor": 5
}
