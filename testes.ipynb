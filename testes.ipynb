{
 "cells": [
  {
   "cell_type": "markdown",
   "id": "32ea34ea",
   "metadata": {},
   "source": [
    "### Teste do servidor FastAPI"
   ]
  },
  {
   "cell_type": "code",
   "execution_count": 1,
   "id": "ccaa85e7",
   "metadata": {},
   "outputs": [
    {
     "name": "stdout",
     "output_type": "stream",
     "text": [
      "Status code: 200\n",
      "Resposta: {'status': 'success', 'message': 'Mensagem adicionada para processamento em background'}\n"
     ]
    }
   ],
   "source": [
    "# Enviar mensagem para o servidor\n",
    "\n",
    "message = \"Me fale sobre tecnologia\"\n",
    "\n",
    "import requests\n",
    "import datetime\n",
    "\n",
    "url = \"http://127.0.0.1:8001/message\"\n",
    "\n",
    "payload = {\n",
    "    \"phone_number\": \"5582999464789\",\n",
    "    \"message\": message,\n",
    "    \"message_id\": \"abc123\",\n",
    "    \"user_name\": \"Teste\",\n",
    "    \"timestamp\": datetime.datetime.now().isoformat()\n",
    "}\n",
    "\n",
    "response = requests.post(url, json=payload)\n",
    "\n",
    "print(\"Status code:\", response.status_code)\n",
    "print(\"Resposta:\", response.json())"
   ]
  },
  {
   "cell_type": "code",
   "execution_count": 17,
   "id": "727adb0b",
   "metadata": {},
   "outputs": [
    {
     "name": "stdout",
     "output_type": "stream",
     "text": [
      "Status code: 401\n",
      "Resposta: {'message': 'Unauthorized'}\n"
     ]
    }
   ],
   "source": [
    "# Enviar mensagem para base de conhecimento\n",
    "\n",
    "message = \"Olá, meu nome é Marcelo, que horas são?\"\n",
    "\n",
    "import requests\n",
    "import datetime\n",
    "\n",
    "url = \"http://127.0.0.1:8000/add-knowledge\"\n",
    "\n",
    "payload = {\n",
    "    \"phone_number\": \"5582999464789\",\n",
    "    \"message\": message,\n",
    "    \"message_id\": \"abc123\",\n",
    "    \"user_name\": \"Teste\",\n",
    "    \"timestamp\": datetime.datetime.now().isoformat()\n",
    "}\n",
    "\n",
    "response = requests.post(url, json=payload)\n",
    "\n",
    "print(\"Status code:\", response.status_code)\n",
    "print(\"Resposta:\", response.json())"
   ]
  },
  {
   "cell_type": "markdown",
   "id": "df0a5446",
   "metadata": {},
   "source": [
    "### QDRANT"
   ]
  },
  {
   "cell_type": "code",
   "execution_count": 22,
   "id": "22d30cc3",
   "metadata": {},
   "outputs": [
    {
     "name": "stdout",
     "output_type": "stream",
     "text": [
      "✅ Qdrant está rodando!\n",
      "✅ Conectado ao Qdrant!\n",
      "Coleções disponíveis:\n",
      "  - knowledge_base: 5 documentos\n",
      "✅ Coleções obtidas com sucesso!\n",
      "Erro ao obter detalhes da knowledge_base: 'CollectionInfo' object has no attribute 'name'\n"
     ]
    }
   ],
   "source": [
    "# Conectar ao Qdrant\n",
    "from qdrant_client import QdrantClient\n",
    "import requests\n",
    "\n",
    "# 1. Verificar se Qdrant está rodando\n",
    "try:\n",
    "    response = requests.get(\"http://localhost:6333/collections\")\n",
    "    print(\"✅ Qdrant está rodando!\")\n",
    "except:\n",
    "    print(\"❌ Qdrant não está rodando. Execute: docker-compose up -d\")\n",
    "    exit()\n",
    "\n",
    "# Verificar se está conectado\n",
    "client = QdrantClient(host=\"localhost\", port=6333)\n",
    "print(\"✅ Conectado ao Qdrant!\")\n",
    "\n",
    "# Ver todas as coleções\n",
    "try:\n",
    "    collections = client.get_collections()\n",
    "    print(\"Coleções disponíveis:\")\n",
    "    for collection in collections.collections:\n",
    "        print(f\"  - {collection.name}: {client.count(collection.name).count} documentos\")\n",
    "except Exception as e:\n",
    "    print(f\"❌ Erro ao obter coleções: {e}\")\n",
    "\n",
    "print(\"✅ Coleções obtidas com sucesso!\")\n",
    "\n",
    "# Ver detalhes da coleção 'knowledge_base'\n",
    "try:\n",
    "    collection_info = client.get_collection('knowledge_base')\n",
    "    print(f\"Nome: {collection_info.name}\")\n",
    "    print(f\"Pontos: {collection_info.points_count}\")\n",
    "    print(f\"Vetores: {collection_info.vectors_count}\")\n",
    "    print(f\"Status: {collection_info.status}\")\n",
    "except Exception as e:\n",
    "    print(f\"Erro ao obter detalhes da knowledge_base: {e}\")"
   ]
  },
  {
   "cell_type": "code",
   "execution_count": 25,
   "id": "63dd1c74",
   "metadata": {},
   "outputs": [
    {
     "name": "stdout",
     "output_type": "stream",
     "text": [
      "📊 Collection knowledge_base tem 0 pontos\n",
      "✅ Collection apagada!\n",
      "✅ Collection recriada vazia!\n"
     ]
    }
   ],
   "source": [
    "from qdrant_client import QdrantClient\n",
    "client = QdrantClient(location=\"localhost:6333\")\n",
    "\n",
    "collection_name = 'knowledge_base'\n",
    "\n",
    "try:\n",
    "    # Verificar se existe\n",
    "    info = client.get_collection(collection_name)\n",
    "    print(f\"📊 Collection {collection_name} tem {info.points_count} pontos\")\n",
    "    \n",
    "    client.delete_collection(collection_name)\n",
    "    print(\"✅ Collection apagada!\")\n",
    "        \n",
    "    # Recriar vazia\n",
    "    from qdrant_client.http.models import Distance, VectorParams\n",
    "    vectors_config = VectorParams(size=384, distance=Distance.COSINE)\n",
    "    client.create_collection(collection_name=collection_name, vectors_config=vectors_config)\n",
    "    print(\"✅ Collection recriada vazia!\")\n",
    "except Exception as e:\n",
    "    print(f\"❌ Erro: {e}\")"
   ]
  },
  {
   "cell_type": "code",
   "execution_count": null,
   "id": "b959bab9",
   "metadata": {},
   "outputs": [],
   "source": [
    "# Buscar todos os pontos (limitado a 100 por padrão)\n",
    "points, next_page_offset = client.scroll(\n",
    "    collection_name='knowledge_base',\n",
    "    limit=100,\n",
    "    with_payload=True,\n",
    "    with_vector=False\n",
    ")\n",
    "\n",
    "print(f\"Encontrados {len(points)} documentos:\")\n",
    "for i, point in enumerate(points, 1):\n",
    "    print(f\"\\n--- Documento {i} ---\")\n",
    "    print(f\"ID: {point.id}\")\n",
    "    print(f\"Documento: {point.payload.get('document', 'N/A')}\")\n",
    "    print(f\"Fonte: {point.payload.get('source', 'N/A')}\")\n",
    "    print(f\"Adicionado em: {point.payload.get('added_at', 'N/A')}\")\n",
    "\n",
    "# Ver apenas metadados\n",
    "points, _ = client.scroll(\n",
    "    collection_name='knowledge_base',\n",
    "    limit=100,\n",
    "    with_payload=True,\n",
    "    with_vector=False\n",
    ")\n",
    "\n",
    "print(\"Metadados dos documentos:\")\n",
    "for point in points:\n",
    "    print(f\"ID: {point.id}\")\n",
    "    print(f\"  Fonte: {point.payload.get('source')}\")\n",
    "    print(f\"  Adicionado: {point.payload.get('added_at')}\")\n",
    "    print(\"---\")"
   ]
  },
  {
   "cell_type": "code",
   "execution_count": null,
   "id": "9c106a7c",
   "metadata": {},
   "outputs": [],
   "source": [
    "# Exemplo de busca vetorial (você precisará gerar um embedding)\n",
    "from sentence_transformers import SentenceTransformer\n",
    "\n",
    "# Carregar modelo de embeddings\n",
    "model = SentenceTransformer('all-MiniLM-L6-v2')\n",
    "\n",
    "# Texto para buscar\n",
    "query_text = \"sua consulta aqui\"\n",
    "query_vector = model.encode([query_text])[0].tolist()\n",
    "\n",
    "# Buscar documentos similares\n",
    "search_results = client.search(\n",
    "    collection_name='knowledge_base',\n",
    "    query_vector=query_vector,\n",
    "    limit=5,\n",
    "    with_payload=True\n",
    ")\n",
    "\n",
    "print(f\"Resultados para: '{query_text}'\")\n",
    "for i, result in enumerate(search_results, 1):\n",
    "    print(f\"\\n--- Resultado {i} (Score: {result.score:.4f}) ---\")\n",
    "    print(f\"ID: {result.id}\")\n",
    "    print(f\"Documento: {result.payload.get('document')}\")"
   ]
  },
  {
   "cell_type": "markdown",
   "id": "8a1c47cb",
   "metadata": {},
   "source": [
    "### SUPABASE"
   ]
  },
  {
   "cell_type": "code",
   "execution_count": null,
   "id": "847e6f01",
   "metadata": {},
   "outputs": [],
   "source": [
    "# Teste do Supabase\n",
    "from supabase import create_client\n",
    "import os\n",
    "from dotenv import load_dotenv\n",
    "\n",
    "load_dotenv(\".env\")\n",
    "\n",
    "SUPABASE_URL = os.getenv(\"SUPABASE_URL\")\n",
    "SUPABASE_KEY = os.getenv(\"SUPABASE_ANON_KEY\")\n",
    "\n",
    "supabase = create_client(SUPABASE_URL, SUPABASE_KEY)\n",
    "\n",
    "data = {\n",
    "    \"phone_number\": \"11999999999\",\n",
    "    \"user_name\": \"Teste\",\n",
    "    \"status\": \"active\"\n",
    "}\n",
    "result = supabase.table(\"conversations\").insert(data).execute()\n",
    "print(result)"
   ]
  },
  {
   "cell_type": "code",
   "execution_count": null,
   "id": "7bca5cb3",
   "metadata": {},
   "outputs": [],
   "source": [
    "# SELECT * FROM conversations LIMIT 1\n",
    "result = supabase.table(\"conversations\").select(\"*\").limit(1).execute()\n",
    "print(result.data)"
   ]
  },
  {
   "cell_type": "markdown",
   "id": "5814756d",
   "metadata": {},
   "source": [
    "### OLLAMA"
   ]
  },
  {
   "cell_type": "code",
   "execution_count": null,
   "id": "9f4dee08",
   "metadata": {},
   "outputs": [],
   "source": [
    "# Teste o Modelo\n",
    "import os\n",
    "from dotenv import load_dotenv\n",
    "import requests\n",
    "\n",
    "load_dotenv(\".env\")\n",
    "\n",
    "OLLAMA_URL = os.getenv(\"OLLAMA_URL\")\n",
    "\n",
    "response = requests.post(\n",
    "    f\"{OLLAMA_URL}/api/generate\",\n",
    "    json={\n",
    "        \"model\": \"llama3.2\",\n",
    "        \"prompt\": \"Olá, quem é você?\"\n",
    "    }\n",
    ")\n",
    "print(response)"
   ]
  },
  {
   "cell_type": "code",
   "execution_count": null,
   "id": "3907617a",
   "metadata": {},
   "outputs": [],
   "source": [
    "# CUDA\n",
    "\n",
    "import torch\n",
    "print(torch.cuda.is_available())  # Deve retornar True\n",
    "#print(torch.cuda.current_device())  # Deve retornar 0 (ou outro índice, se múltiplas GPUs)\n",
    "print(torch.cuda.get_device_name(0))  # Nome da sua GPU"
   ]
  },
  {
   "cell_type": "code",
   "execution_count": null,
   "id": "845fe935",
   "metadata": {},
   "outputs": [],
   "source": [
    "#Script de teste para o sistema RAG\n",
    "\n",
    "import asyncio\n",
    "import logging\n",
    "from src.services.rag_system import RAGSystem\n",
    "\n",
    "# Configurar logging\n",
    "logging.basicConfig(level=logging.INFO)\n",
    "logger = logging.getLogger(__name__)\n",
    "\n",
    "async def test_rag_system():\n",
    "    \"\"\"Testa o sistema RAG\"\"\"\n",
    "    try:\n",
    "        rag = RAGSystem()\n",
    "        \n",
    "        # Teste 1: Verificar conexão com Qdrant\n",
    "        logger.info(\"=== Teste 1: Verificar conexão com Qdrant ===\")\n",
    "        rag._initialize_qdrant()\n",
    "        \n",
    "        if not rag.qdrant:\n",
    "            logger.error(\"Falha na conexão com Qdrant\")\n",
    "            return\n",
    "        \n",
    "        # Teste 2: Verificar coleções\n",
    "        logger.info(\"=== Teste 2: Verificar coleções ===\")\n",
    "        collections = rag.qdrant.get_collections()\n",
    "        logger.info(f\"Coleções disponíveis: {[c.name for c in collections.collections]}\")\n",
    "        \n",
    "        # Teste 3: Adicionar documentos de teste\n",
    "        logger.info(\"=== Teste 3: Adicionar documentos de teste ===\")\n",
    "        test_documents = [\n",
    "            \"O produto X custa R$ 100,00 e tem garantia de 1 ano.\",\n",
    "            \"Para suporte técnico, entre em contato pelo WhatsApp ou email.\",\n",
    "            \"Nossos horários de atendimento são de segunda a sexta, das 8h às 18h.\",\n",
    "            \"Frete grátis para compras acima de R$ 200,00.\",\n",
    "            \"Aceitamos cartão de crédito, PIX e boleto bancário.\"\n",
    "        ]\n",
    "        \n",
    "        await rag.add_documents_to_rag(test_documents, [{\"source\": \"teste\"} for _ in test_documents])\n",
    "        \n",
    "        # Teste 4: Testar busca\n",
    "        logger.info(\"=== Teste 4: Testar busca ===\")\n",
    "        query = \"Quanto custa o produto X?\"\n",
    "        context = await rag.retrieve_context(query)\n",
    "        logger.info(f\"Query: {query}\")\n",
    "        logger.info(f\"Contexto encontrado: {context}\")\n",
    "        \n",
    "        # Teste 5: Testar busca com histórico\n",
    "        logger.info(\"=== Teste 5: Testar busca com histórico ===\")\n",
    "        history = [\n",
    "            {\"message\": \"Olá, preciso de ajuda\", \"message_type\": \"incoming\"},\n",
    "            {\"message\": \"Como posso ajudar?\", \"message_type\": \"outgoing\"}\n",
    "        ]\n",
    "        context_with_history = await rag.retrieve_context(\"preços\", history)\n",
    "        logger.info(f\"Query com histórico: preços\")\n",
    "        logger.info(f\"Contexto encontrado: {context_with_history}\")\n",
    "        \n",
    "        logger.info(\"=== Todos os testes concluídos com sucesso! ===\")\n",
    "        \n",
    "    except Exception as e:\n",
    "        logger.error(f\"Erro durante os testes: {e}\")\n",
    "        import traceback\n",
    "        logger.error(f\"Traceback: {traceback.format_exc()}\")\n",
    "\n",
    "if __name__ == \"__main__\":\n",
    "    asyncio.run(test_rag_system()) "
   ]
  },
  {
   "cell_type": "markdown",
   "id": "d9c2b50e",
   "metadata": {},
   "source": [
    "### PUB/SUB"
   ]
  },
  {
   "cell_type": "code",
   "execution_count": 14,
   "id": "096f88dd",
   "metadata": {},
   "outputs": [],
   "source": [
    "# Publicar mensagem diretamente no PubSub\n",
    "\n",
    "import os\n",
    "from google.cloud import pubsub_v1\n",
    "\n",
    "# Configurar credenciais e variáveis\n",
    "os.environ[\"GOOGLE_APPLICATION_CREDENTIALS\"] = r\"C:\\Projetos\\python-llama-rag-wts\\credenciais.json\"\n",
    "PROJECT_ID = os.getenv(\"GCP_PROJECT_ID\", \"treinamentoia-465816\")\n",
    "PUBSUB_TOPIC_ID = os.getenv(\"PUBSUB_TOPIC_ID\", \"whatsapp-messages\")\n",
    "SUBSCRIPTION_ID = os.getenv(\"PUBSUB_SUBSCRIPTION_ID\", \"whatsapp-messages-sub\")"
   ]
  },
  {
   "cell_type": "code",
   "execution_count": null,
   "id": "7238bc1e",
   "metadata": {},
   "outputs": [],
   "source": [
    "# Publicar mensagem diretamente no PubSub\n",
    "publisher = pubsub_v1.PublisherClient()\n",
    "topic_path = publisher.topic_path(PROJECT_ID, PUBSUB_TOPIC_ID)\n",
    "\n",
    "data = \"Mensagem de teste do PubSub\".encode(\"utf-8\")\n",
    "future = publisher.publish(topic_path, data)\n",
    "print(\"Mensagem publicada! ID:\", future.result())"
   ]
  },
  {
   "cell_type": "code",
   "execution_count": null,
   "id": "46f8d6be",
   "metadata": {},
   "outputs": [],
   "source": [
    "# Confirmar todas as mensagens pendentes\n",
    "subscriber = pubsub_v1.SubscriberClient()\n",
    "subscription_path = subscriber.subscription_path(PROJECT_ID, SUBSCRIPTION_ID)\n",
    "\n",
    "try:\n",
    "    while True:\n",
    "        # Tentar receber mensagens\n",
    "        request = {\n",
    "            \"subscription\": subscription_path,\n",
    "            \"max_messages\": 10,  # Pega até 10 mensagens por vez\n",
    "            \"return_immediately\": True\n",
    "        }\n",
    "        \n",
    "        response = subscriber.pull(request=request, timeout=5.0)\n",
    "        print(f'{len(response.received_messages)} mensages lidas')\n",
    "        \n",
    "        if not response.received_messages:\n",
    "            print(\"Nenhuma mensagem pendente encontrada.\")\n",
    "            break\n",
    "        \n",
    "        # Fazer ack de todas as mensagens recebidas\n",
    "        ack_ids = [msg.ack_id for msg in response.received_messages]\n",
    "        \n",
    "\n",
    "        subscriber.acknowledge(request={\"subscription\": subscription_path, \"ack_ids\": ack_ids})\n",
    "        \n",
    "    \n",
    "\n",
    "except Exception as e:\n",
    "    print(f\"Erro ao limpar fila: {e}\")"
   ]
  }
 ],
 "metadata": {
  "kernelspec": {
   "display_name": ".venv",
   "language": "python",
   "name": "python3"
  },
  "language_info": {
   "codemirror_mode": {
    "name": "ipython",
    "version": 3
   },
   "file_extension": ".py",
   "mimetype": "text/x-python",
   "name": "python",
   "nbconvert_exporter": "python",
   "pygments_lexer": "ipython3",
   "version": "3.13.5"
  }
 },
 "nbformat": 4,
 "nbformat_minor": 5
}
